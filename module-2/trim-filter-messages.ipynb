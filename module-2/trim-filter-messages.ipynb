{
 "cells": [
  {
   "cell_type": "markdown",
   "id": "fb0ebaf1",
   "metadata": {},
   "source": [
    "[![Open in Colab](https://colab.research.google.com/assets/colab-badge.svg)](https://colab.research.google.com/github/langchain-ai/langchain-academy/blob/main/module-2/trim-filter-messages.ipynb) [![Open in LangChain Academy](https://cdn.prod.website-files.com/65b8cd72835ceeacd4449a53/66e9eba12c7b7688aa3dbb5e_LCA-badge-green.svg)](https://academy.langchain.com/courses/take/intro-to-langgraph/lessons/58239435-lesson-4-trim-and-filter-messages)"
   ]
  },
  {
   "cell_type": "markdown",
   "id": "c52ea2f9-03ff-4647-b782-46867ebed04e",
   "metadata": {},
   "source": [
    "# Filtering and trimming messages\n",
    "\n",
    "## Review\n",
    "\n",
    "Now, we have a deeper understanding of a few things: \n",
    "\n",
    "* How to customize the graph state schema\n",
    "* How to define custom state reducers\n",
    "* How to use multiple graph state schemas\n",
    "\n",
    "## Goals\n",
    "\n",
    "Now, we can start using these concepts with models in LangGraph!\n",
    " \n",
    "In the next few sessions, we'll build towards a chatbot that has long-term memory.\n",
    "\n",
    "Because our chatbot will use messages, let's first talk a bit more about advanced ways to work with messages in graph state."
   ]
  },
  {
   "cell_type": "code",
   "execution_count": 1,
   "id": "d5197aba-5d46-421b-ae3b-4e3034edcfda",
   "metadata": {},
   "outputs": [],
   "source": [
    "%%capture --no-stderr\n",
    "%pip install --quiet -U langchain_core langgraph langchain_openai"
   ]
  },
  {
   "cell_type": "code",
   "execution_count": 2,
   "id": "768dc606-d5f2-468d-96ea-910b264e0f8a",
   "metadata": {},
   "outputs": [],
   "source": [
    "import os, getpass\n",
    "\n",
    "def _set_env(var: str):\n",
    "    if not os.environ.get(var):\n",
    "        os.environ[var] = getpass.getpass(f\"{var}: \")\n",
    "\n",
    "_set_env(\"GEMINI_API_KEY\")"
   ]
  },
  {
   "cell_type": "markdown",
   "id": "8b64d8d3-e4ac-4961-bdc0-688825eb5864",
   "metadata": {},
   "source": [
    "We'll use [LangSmith](https://docs.smith.langchain.com/) for [tracing](https://docs.smith.langchain.com/concepts/tracing).\n",
    "\n",
    "We'll log to a project, `langchain-academy`. "
   ]
  },
  {
   "cell_type": "code",
   "execution_count": 3,
   "id": "dd020c79",
   "metadata": {},
   "outputs": [],
   "source": [
    "_set_env(\"LANGSMITH_API_KEY\")\n",
    "os.environ[\"LANGSMITH_TRACING\"] = \"true\"\n",
    "os.environ[\"LANGSMITH_PROJECT\"] = \"langchain-academy\""
   ]
  },
  {
   "cell_type": "markdown",
   "id": "72f3fc90-58b6-4f7f-897e-dddf6ae532c7",
   "metadata": {},
   "source": [
    "## Messages as state\n",
    "\n",
    "First, let's define some messages."
   ]
  },
  {
   "cell_type": "code",
   "execution_count": 4,
   "id": "cf11a463-e27a-4a05-b41d-64882e38edca",
   "metadata": {},
   "outputs": [
    {
     "name": "stdout",
     "output_type": "stream",
     "text": [
      "==================================\u001b[1m Ai Message \u001b[0m==================================\n",
      "Name: Bot\n",
      "\n",
      "So you said you were researching ocean mammals?\n",
      "================================\u001b[1m Human Message \u001b[0m=================================\n",
      "Name: Lance\n",
      "\n",
      "Yes, I know about whales. But what others should I learn about?\n"
     ]
    }
   ],
   "source": [
    "from pprint import pprint\n",
    "from langchain_core.messages import AIMessage, HumanMessage\n",
    "messages = [AIMessage(f\"So you said you were researching ocean mammals?\", name=\"Bot\")]\n",
    "messages.append(HumanMessage(f\"Yes, I know about whales. But what others should I learn about?\", name=\"Lance\"))\n",
    "\n",
    "for m in messages:\n",
    "    m.pretty_print()"
   ]
  },
  {
   "cell_type": "markdown",
   "id": "b814adcb-6bf9-4b75-be11-e59f933fbd0c",
   "metadata": {},
   "source": [
    "Recall we can pass them to a chat model."
   ]
  },
  {
   "cell_type": "code",
   "execution_count": 5,
   "id": "4712e288-e622-48a2-ad3f-a52f65f3ab08",
   "metadata": {},
   "outputs": [
    {
     "data": {
      "text/plain": [
       "AIMessage(content='That\\'s a great start! Whales are fascinating. Besides whales, there\\'s a whole ocean of amazing marine mammals to discover. Here\\'s a breakdown of some other groups you could explore:\\n\\n**1. Seals, Sea Lions, and Walruses (Pinnipeds - \"Fin-Footed\"):**\\n\\n*   **Seals:** Generally have streamlined bodies, move on land by flopping, and have short flippers. Examples include harbor seals, elephant seals, and harp seals.\\n*   **Sea Lions and Fur Seals:** More agile on land, using their larger flippers to \"walk.\" They often have external ear flaps. Examples include California sea lions, Steller sea lions, and Galapagos fur seals.\\n*   **Walruses:** Large, with prominent tusks, found in Arctic regions. They use their tusks for various purposes, including pulling themselves onto ice.\\n\\n**2. Sea Otters:**\\n\\n*   These are the smallest marine mammals in North America and are known for their dense fur. They are highly intelligent and use tools (like rocks) to open shellfish.\\n\\n**3. Sirenians (Sea Cows):**\\n\\n*   This group includes manatees and dugongs. They are slow-moving, herbivorous mammals that graze on seagrass and aquatic plants. They have a more rounded body shape.\\n\\n**4. Polar Bears:**\\n\\n*   While technically a land mammal, polar bears are highly adapted to the Arctic environment and spend much of their time hunting seals on sea ice.\\n\\n**Here are some specific animals within those groups you might want to look into:**\\n\\n*   **Dolphins:** While whales are the larger group, dolphins are also very popular and some are very intelligent.\\n*   **Orcas (Killer Whales):** The largest dolphin species, known for their intelligence and social complexity.\\n*   **Harbor Seals:** Common in many coastal areas.\\n*   **Elephant Seals:** Known for their massive size and the males\\' large, inflatable noses.\\n*   **California Sea Lions:** Found along the Pacific coast of North America.\\n*   **Manatees:** Gentle giants found in warmer waters.\\n*   **Dugongs:** Similar to manatees, but with a different tail shape.\\n*   **Sea Otters:** Known for their use of tools and dense fur.\\n*   **Walruses:** Found in Arctic regions, known for their tusks.\\n*   **Polar Bears:** Highly adapted to the Arctic and hunt seals.\\n\\n**When you\\'re researching, consider these things:**\\n\\n*   **Habitat:** Where do they live (oceans, coasts, Arctic)?\\n*   **Diet:** What do they eat?\\n*   **Behavior:** How do they interact with each other and their environment?\\n*   **Conservation Status:** Are they endangered or threatened?\\n*   **Adaptations:** How are they uniquely suited to their environment?\\n*   **Interesting Facts:** What makes them special?\\n\\nHave fun exploring the world of marine mammals! Do you have any particular groups that interest you the most?', additional_kwargs={}, response_metadata={'prompt_feedback': {'block_reason': 0, 'safety_ratings': []}, 'finish_reason': 'STOP', 'model_name': 'gemini-2.0-flash-lite', 'safety_ratings': []}, id='run-dd80e61e-bb3c-4ead-b762-f2e6f86ce9c6-0', usage_metadata={'input_tokens': 24, 'output_tokens': 642, 'total_tokens': 666, 'input_token_details': {'cache_read': 0}})"
      ]
     },
     "execution_count": 5,
     "metadata": {},
     "output_type": "execute_result"
    }
   ],
   "source": [
    "from langchain_google_genai import ChatGoogleGenerativeAI\n",
    "llm = ChatGoogleGenerativeAI(model=\"gemini-2.0-flash-lite\", api_key=os.environ.get(\"GEMINI_API_KEY\"))\n",
    "llm.invoke(messages)"
   ]
  },
  {
   "cell_type": "markdown",
   "id": "fbd1dab8-0af8-4621-8264-ce65065f76ec",
   "metadata": {},
   "source": [
    "We can run our chat model in a simple graph with `MessagesState`."
   ]
  },
  {
   "cell_type": "code",
   "execution_count": 6,
   "id": "bbd8c39c-633b-4176-9cc6-8318e42bb5dd",
   "metadata": {},
   "outputs": [
    {
     "data": {
      "image/png": "[encoded data removed]",
      "text/plain": [
       "<IPython.core.display.Image object>"
      ]
     },
     "metadata": {},
     "output_type": "display_data"
    }
   ],
   "source": [
    "from IPython.display import Image, display\n",
    "from langgraph.graph import MessagesState\n",
    "from langgraph.graph import StateGraph, START, END\n",
    "\n",
    "# Node\n",
    "def chat_model_node(state: MessagesState):\n",
    "    return {\"messages\": llm.invoke(state[\"messages\"])}\n",
    "\n",
    "# Build graph\n",
    "builder = StateGraph(MessagesState)\n",
    "builder.add_node(\"chat_model\", chat_model_node)\n",
    "builder.add_edge(START, \"chat_model\")\n",
    "builder.add_edge(\"chat_model\", END)\n",
    "graph = builder.compile()\n",
    "\n",
    "# View\n",
    "display(Image(graph.get_graph().draw_mermaid_png()))"
   ]
  },
  {
   "cell_type": "code",
   "execution_count": 7,
   "id": "3a5a3e4a-ccfd-4d14-81f1-f0de6e11a1e4",
   "metadata": {},
   "outputs": [
    {
     "name": "stdout",
     "output_type": "stream",
     "text": [
      "==================================\u001b[1m Ai Message \u001b[0m==================================\n",
      "Name: Bot\n",
      "\n",
      "So you said you were researching ocean mammals?\n",
      "================================\u001b[1m Human Message \u001b[0m=================================\n",
      "Name: Lance\n",
      "\n",
      "Yes, I know about whales. But what others should I learn about?\n",
      "==================================\u001b[1m Ai Message \u001b[0m==================================\n",
      "\n",
      "That's great you know about whales! They're fascinating. Besides whales, the ocean is home to a wide variety of amazing marine mammals. Here are a few other groups you could explore, along with some examples from each:\n",
      "\n",
      "**1. Pinnipeds (Fin-footed mammals):** These are the seals, sea lions, and walruses. They're characterized by their flipper-like limbs, which are adapted for swimming.\n",
      "\n",
      "*   **Seals:** Generally have streamlined bodies and move on land by wriggling.\n",
      "    *   *Examples:* Harbor seals, elephant seals, harp seals, ringed seals, leopard seals.\n",
      "*   **Sea Lions:** More agile on land, using their flippers to \"walk.\" They also have external ear flaps.\n",
      "    *   *Examples:* California sea lions, Steller sea lions, Galapagos sea lions.\n",
      "*   **Walruses:** Distinguished by their long tusks and prominent whiskers. They use their tusks for various purposes, including pulling themselves onto ice.\n",
      "    *   *Examples:* Atlantic walrus, Pacific walrus.\n",
      "\n",
      "**2. Sirenians:** These are the \"sea cows\" - manatees and dugongs. They are herbivores and have a more rounded, less streamlined body shape than pinnipeds.\n",
      "\n",
      "*   **Manatees:** Found in warmer waters, they have a paddle-shaped tail.\n",
      "    *   *Examples:* West Indian manatee, Amazonian manatee, West African manatee.\n",
      "*   **Dugongs:** Found in the Indian and Pacific Oceans, they have a forked tail (similar to a whale).\n",
      "    *   *Example:* Dugong.\n",
      "\n",
      "**3. Sea Otters:** These are the smallest marine mammals in North America and are known for their dense fur and use of tools (like rocks to crack open shellfish).\n",
      "\n",
      "*   *Example:* Sea Otter.\n",
      "\n",
      "**4. Polar Bears:** While technically land mammals, polar bears are highly adapted to a marine environment. They spend a significant amount of time in the water, hunting seals and other prey.\n",
      "\n",
      "*   *Example:* Polar Bear.\n",
      "\n",
      "To help you decide where to start, do any of these groups sound particularly interesting to you? Or, are there any specific environments you're interested in (e.g., the Arctic, tropical oceans, etc.)? Knowing your preferences will help me provide more specific information.\n"
     ]
    }
   ],
   "source": [
    "output = graph.invoke({'messages': messages})\n",
    "for m in output['messages']:\n",
    "    m.pretty_print()"
   ]
  },
  {
   "cell_type": "markdown",
   "id": "34c33e63-1ef4-412d-bb10-6a1b9e5b35a7",
   "metadata": {},
   "source": [
    "## Reducer\n",
    "\n",
    "A practical challenge when working with messages is managing long-running conversations. \n",
    "\n",
    "Long-running conversations result in high token usage and latency if we are not careful, because we pass a growing list of messages to the model.\n",
    "\n",
    "We have a few ways to address this.\n",
    "\n",
    "First, recall the trick we saw using `RemoveMessage` and the `add_messages` reducer."
   ]
  },
  {
   "cell_type": "code",
   "execution_count": 8,
   "id": "222c6bc5-bb0e-4a43-80f5-c8ec38d99f3a",
   "metadata": {},
   "outputs": [
    {
     "data": {
      "image/png": "[encoded data removed]",
      "text/plain": [
       "<IPython.core.display.Image object>"
      ]
     },
     "metadata": {},
     "output_type": "display_data"
    }
   ],
   "source": [
    "from langchain_core.messages import RemoveMessage\n",
    "\n",
    "# Nodes\n",
    "def filter_messages(state: MessagesState):\n",
    "    # Delete all but the 2 most recent messages\n",
    "    delete_messages = [RemoveMessage(id=m.id) for m in state[\"messages\"][:-2]]\n",
    "    return {\"messages\": delete_messages}\n",
    "\n",
    "def chat_model_node(state: MessagesState):    \n",
    "    return {\"messages\": [llm.invoke(state[\"messages\"])]}\n",
    "\n",
    "# Build graph\n",
    "builder = StateGraph(MessagesState)\n",
    "builder.add_node(\"filter\", filter_messages)\n",
    "builder.add_node(\"chat_model\", chat_model_node)\n",
    "builder.add_edge(START, \"filter\")\n",
    "builder.add_edge(\"filter\", \"chat_model\")\n",
    "builder.add_edge(\"chat_model\", END)\n",
    "graph = builder.compile()\n",
    "\n",
    "# View\n",
    "display(Image(graph.get_graph().draw_mermaid_png()))"
   ]
  },
  {
   "cell_type": "code",
   "execution_count": 9,
   "id": "95a7c2cc-54ce-43e7-9a90-abf37827d709",
   "metadata": {},
   "outputs": [
    {
     "name": "stdout",
     "output_type": "stream",
     "text": [
      "==================================\u001b[1m Ai Message \u001b[0m==================================\n",
      "Name: Bot\n",
      "\n",
      "So you said you were researching ocean mammals?\n",
      "================================\u001b[1m Human Message \u001b[0m=================================\n",
      "Name: Lance\n",
      "\n",
      "Yes, I know about whales. But what others should I learn about?\n",
      "==================================\u001b[1m Ai Message \u001b[0m==================================\n",
      "\n",
      "Okay, that's a great starting point! Whales are fascinating. Since you know about them, let's explore some other amazing ocean mammals. Here's a breakdown, with some interesting facts to pique your interest:\n",
      "\n",
      "**1. Dolphins:**\n",
      "\n",
      "*   **What they are:** Highly intelligent, social, and playful marine mammals. They're closely related to whales (both are cetaceans).\n",
      "*   **Key Features:** Streamlined bodies, curved mouths that often look like they're smiling, and echolocation abilities for navigation and hunting. They live in pods (groups) and communicate with clicks, whistles, and body language.\n",
      "*   **Types:** Bottlenose dolphins are probably the most well-known, but there are many others, like spinner dolphins, orcas (also known as killer whales), and many more.\n",
      "*   **Fun Fact:** Dolphins have been known to use tools, like sponges to protect their noses while foraging on the seabed.\n",
      "\n",
      "**2. Seals, Sea Lions, and Walruses (Pinnipeds):**\n",
      "\n",
      "*   **What they are:** These are the \"fin-footed\" marine mammals. They're adapted for both land and water.\n",
      "*   **Key Features:**\n",
      "    *   **Seals:** Sleek bodies, flippers designed for swimming, and they \"flop\" on land. They lack external ear flaps.\n",
      "    *   **Sea Lions:** Have external ear flaps, can \"walk\" on their flippers, and are generally more vocal. They are often found in areas with rocky coasts.\n",
      "    *   **Walruses:** Large, with distinctive long tusks used for social display, defense, and pulling themselves onto ice. They also have sensitive whiskers to find food on the seafloor.\n",
      "*   **Types:** Harbor seals, grey seals, California sea lions, Steller sea lions, and Atlantic walruses are just a few examples.\n",
      "*   **Fun Fact:** Some seals can hold their breath for over an hour!\n",
      "\n",
      "**3. Sea Otters:**\n",
      "\n",
      "*   **What they are:** The smallest marine mammals in North America, known for their dense fur.\n",
      "*   **Key Features:** They spend almost their entire lives in the water, have strong hind flippers, and use tools (like rocks) to crack open shellfish. They are incredibly playful and intelligent.\n",
      "*   **Types:** There are two species: the Northern sea otter and the Southern sea otter.\n",
      "*   **Fun Fact:** Sea otters are vital to kelp forest ecosystems because they eat sea urchins, which can overgraze the kelp.\n",
      "\n",
      "**4. Manatees and Dugongs (Sirenians):**\n",
      "\n",
      "*   **What they are:** Gentle, slow-moving herbivores, often called \"sea cows.\"\n",
      "*   **Key Features:** Large, round bodies, paddle-like tails, and they feed on seagrass and other aquatic plants.\n",
      "*   **Types:** There are three species of manatees (West Indian, Amazonian, and West African) and one species of dugong.\n",
      "*   **Fun Fact:** Manatees are related to elephants!\n",
      "\n",
      "**5. Polar Bears:**\n",
      "\n",
      "*   **What they are:** The largest land predators, but are considered marine mammals because they spend much of their time in the Arctic Ocean.\n",
      "*   **Key Features:** Adapted for cold environments, with thick fur and a layer of blubber. They are excellent swimmers and hunters, primarily feeding on seals.\n",
      "*   **Fun Fact:** Polar bears can swim for miles and are known to hold their breath for up to two minutes.\n",
      "\n",
      "**How to Choose What to Learn About:**\n",
      "\n",
      "*   **Location:** Are you interested in mammals from a specific part of the world? (e.g., the Arctic, the Pacific Ocean, the Caribbean)\n",
      "*   **Behavior:** Are you fascinated by intelligence, social behavior, hunting techniques, or conservation challenges?\n",
      "*   **Appearance:** Do you have a preference for a particular look or size of animal?\n",
      "*   **Conservation:** Are you interested in learning about species that are threatened or endangered and the challenges they face?\n",
      "\n",
      "Let me know what sounds most interesting to you, and I can provide more specific information! Or, you can choose a few and we can explore them together!\n"
     ]
    }
   ],
   "source": [
    "# Message list with a preamble\n",
    "messages = [AIMessage(\"Hi.\", name=\"Bot\", id=\"1\")]\n",
    "messages.append(HumanMessage(\"Hi.\", name=\"Lance\", id=\"2\"))\n",
    "messages.append(AIMessage(\"So you said you were researching ocean mammals?\", name=\"Bot\", id=\"3\"))\n",
    "messages.append(HumanMessage(\"Yes, I know about whales. But what others should I learn about?\", name=\"Lance\", id=\"4\"))\n",
    "\n",
    "# Invoke\n",
    "output = graph.invoke({'messages': messages})\n",
    "for m in output['messages']:\n",
    "    m.pretty_print()"
   ]
  },
  {
   "cell_type": "markdown",
   "id": "f506457d-014b-4fee-a684-e5edfb4b8f0d",
   "metadata": {},
   "source": [
    "## Filtering messages\n",
    "\n",
    "If you don't need or want to modify the graph state, you can just filter the messages you pass to the chat model.\n",
    "\n",
    "For example, just pass in a filtered list: `llm.invoke(messages[-1:])` to the model."
   ]
  },
  {
   "cell_type": "code",
   "execution_count": 10,
   "id": "22d0b904-7cd6-486b-8948-105bee3d4683",
   "metadata": {},
   "outputs": [
    {
     "data": {
      "image/png": "[encoded data removed]",
      "text/plain": [
       "<IPython.core.display.Image object>"
      ]
     },
     "metadata": {},
     "output_type": "display_data"
    }
   ],
   "source": [
    "# Node\n",
    "def chat_model_node(state: MessagesState):\n",
    "    return {\"messages\": [llm.invoke(state[\"messages\"][-1:])]}\n",
    "\n",
    "# Build graph\n",
    "builder = StateGraph(MessagesState)\n",
    "builder.add_node(\"chat_model\", chat_model_node)\n",
    "builder.add_edge(START, \"chat_model\")\n",
    "builder.add_edge(\"chat_model\", END)\n",
    "graph = builder.compile()\n",
    "\n",
    "# View\n",
    "display(Image(graph.get_graph().draw_mermaid_png()))"
   ]
  },
  {
   "cell_type": "markdown",
   "id": "6f58c6fc-532f-418d-b70a-cfcb3307daf5",
   "metadata": {},
   "source": [
    "Let's take our existing list of messages, append the above LLM response, and append a follow-up question."
   ]
  },
  {
   "cell_type": "code",
   "execution_count": 11,
   "id": "16956015-1dbe-4108-89b5-4209b68b51ca",
   "metadata": {},
   "outputs": [],
   "source": [
    "messages.append(output['messages'][-1])\n",
    "messages.append(HumanMessage(f\"Tell me more about Narwhals!\", name=\"Lance\"))"
   ]
  },
  {
   "cell_type": "code",
   "execution_count": 12,
   "id": "85563415-c085-46a8-a4ac-155df798c54e",
   "metadata": {},
   "outputs": [
    {
     "name": "stdout",
     "output_type": "stream",
     "text": [
      "==================================\u001b[1m Ai Message \u001b[0m==================================\n",
      "Name: Bot\n",
      "\n",
      "Hi.\n",
      "================================\u001b[1m Human Message \u001b[0m=================================\n",
      "Name: Lance\n",
      "\n",
      "Hi.\n",
      "==================================\u001b[1m Ai Message \u001b[0m==================================\n",
      "Name: Bot\n",
      "\n",
      "So you said you were researching ocean mammals?\n",
      "================================\u001b[1m Human Message \u001b[0m=================================\n",
      "Name: Lance\n",
      "\n",
      "Yes, I know about whales. But what others should I learn about?\n",
      "==================================\u001b[1m Ai Message \u001b[0m==================================\n",
      "\n",
      "Okay, that's a great starting point! Whales are fascinating. Since you know about them, let's explore some other amazing ocean mammals. Here's a breakdown, with some interesting facts to pique your interest:\n",
      "\n",
      "**1. Dolphins:**\n",
      "\n",
      "*   **What they are:** Highly intelligent, social, and playful marine mammals. They're closely related to whales (both are cetaceans).\n",
      "*   **Key Features:** Streamlined bodies, curved mouths that often look like they're smiling, and echolocation abilities for navigation and hunting. They live in pods (groups) and communicate with clicks, whistles, and body language.\n",
      "*   **Types:** Bottlenose dolphins are probably the most well-known, but there are many others, like spinner dolphins, orcas (also known as killer whales), and many more.\n",
      "*   **Fun Fact:** Dolphins have been known to use tools, like sponges to protect their noses while foraging on the seabed.\n",
      "\n",
      "**2. Seals, Sea Lions, and Walruses (Pinnipeds):**\n",
      "\n",
      "*   **What they are:** These are the \"fin-footed\" marine mammals. They're adapted for both land and water.\n",
      "*   **Key Features:**\n",
      "    *   **Seals:** Sleek bodies, flippers designed for swimming, and they \"flop\" on land. They lack external ear flaps.\n",
      "    *   **Sea Lions:** Have external ear flaps, can \"walk\" on their flippers, and are generally more vocal. They are often found in areas with rocky coasts.\n",
      "    *   **Walruses:** Large, with distinctive long tusks used for social display, defense, and pulling themselves onto ice. They also have sensitive whiskers to find food on the seafloor.\n",
      "*   **Types:** Harbor seals, grey seals, California sea lions, Steller sea lions, and Atlantic walruses are just a few examples.\n",
      "*   **Fun Fact:** Some seals can hold their breath for over an hour!\n",
      "\n",
      "**3. Sea Otters:**\n",
      "\n",
      "*   **What they are:** The smallest marine mammals in North America, known for their dense fur.\n",
      "*   **Key Features:** They spend almost their entire lives in the water, have strong hind flippers, and use tools (like rocks) to crack open shellfish. They are incredibly playful and intelligent.\n",
      "*   **Types:** There are two species: the Northern sea otter and the Southern sea otter.\n",
      "*   **Fun Fact:** Sea otters are vital to kelp forest ecosystems because they eat sea urchins, which can overgraze the kelp.\n",
      "\n",
      "**4. Manatees and Dugongs (Sirenians):**\n",
      "\n",
      "*   **What they are:** Gentle, slow-moving herbivores, often called \"sea cows.\"\n",
      "*   **Key Features:** Large, round bodies, paddle-like tails, and they feed on seagrass and other aquatic plants.\n",
      "*   **Types:** There are three species of manatees (West Indian, Amazonian, and West African) and one species of dugong.\n",
      "*   **Fun Fact:** Manatees are related to elephants!\n",
      "\n",
      "**5. Polar Bears:**\n",
      "\n",
      "*   **What they are:** The largest land predators, but are considered marine mammals because they spend much of their time in the Arctic Ocean.\n",
      "*   **Key Features:** Adapted for cold environments, with thick fur and a layer of blubber. They are excellent swimmers and hunters, primarily feeding on seals.\n",
      "*   **Fun Fact:** Polar bears can swim for miles and are known to hold their breath for up to two minutes.\n",
      "\n",
      "**How to Choose What to Learn About:**\n",
      "\n",
      "*   **Location:** Are you interested in mammals from a specific part of the world? (e.g., the Arctic, the Pacific Ocean, the Caribbean)\n",
      "*   **Behavior:** Are you fascinated by intelligence, social behavior, hunting techniques, or conservation challenges?\n",
      "*   **Appearance:** Do you have a preference for a particular look or size of animal?\n",
      "*   **Conservation:** Are you interested in learning about species that are threatened or endangered and the challenges they face?\n",
      "\n",
      "Let me know what sounds most interesting to you, and I can provide more specific information! Or, you can choose a few and we can explore them together!\n",
      "================================\u001b[1m Human Message \u001b[0m=================================\n",
      "Name: Lance\n",
      "\n",
      "Tell me more about Narwhals!\n"
     ]
    }
   ],
   "source": [
    "for m in messages:\n",
    "    m.pretty_print()"
   ]
  },
  {
   "cell_type": "code",
   "execution_count": 13,
   "id": "23349705-a059-47b5-9760-d8f64e687393",
   "metadata": {},
   "outputs": [
    {
     "name": "stdout",
     "output_type": "stream",
     "text": [
      "==================================\u001b[1m Ai Message \u001b[0m==================================\n",
      "Name: Bot\n",
      "\n",
      "Hi.\n",
      "================================\u001b[1m Human Message \u001b[0m=================================\n",
      "Name: Lance\n",
      "\n",
      "Hi.\n",
      "==================================\u001b[1m Ai Message \u001b[0m==================================\n",
      "Name: Bot\n",
      "\n",
      "So you said you were researching ocean mammals?\n",
      "================================\u001b[1m Human Message \u001b[0m=================================\n",
      "Name: Lance\n",
      "\n",
      "Yes, I know about whales. But what others should I learn about?\n",
      "==================================\u001b[1m Ai Message \u001b[0m==================================\n",
      "\n",
      "Okay, that's a great starting point! Whales are fascinating. Since you know about them, let's explore some other amazing ocean mammals. Here's a breakdown, with some interesting facts to pique your interest:\n",
      "\n",
      "**1. Dolphins:**\n",
      "\n",
      "*   **What they are:** Highly intelligent, social, and playful marine mammals. They're closely related to whales (both are cetaceans).\n",
      "*   **Key Features:** Streamlined bodies, curved mouths that often look like they're smiling, and echolocation abilities for navigation and hunting. They live in pods (groups) and communicate with clicks, whistles, and body language.\n",
      "*   **Types:** Bottlenose dolphins are probably the most well-known, but there are many others, like spinner dolphins, orcas (also known as killer whales), and many more.\n",
      "*   **Fun Fact:** Dolphins have been known to use tools, like sponges to protect their noses while foraging on the seabed.\n",
      "\n",
      "**2. Seals, Sea Lions, and Walruses (Pinnipeds):**\n",
      "\n",
      "*   **What they are:** These are the \"fin-footed\" marine mammals. They're adapted for both land and water.\n",
      "*   **Key Features:**\n",
      "    *   **Seals:** Sleek bodies, flippers designed for swimming, and they \"flop\" on land. They lack external ear flaps.\n",
      "    *   **Sea Lions:** Have external ear flaps, can \"walk\" on their flippers, and are generally more vocal. They are often found in areas with rocky coasts.\n",
      "    *   **Walruses:** Large, with distinctive long tusks used for social display, defense, and pulling themselves onto ice. They also have sensitive whiskers to find food on the seafloor.\n",
      "*   **Types:** Harbor seals, grey seals, California sea lions, Steller sea lions, and Atlantic walruses are just a few examples.\n",
      "*   **Fun Fact:** Some seals can hold their breath for over an hour!\n",
      "\n",
      "**3. Sea Otters:**\n",
      "\n",
      "*   **What they are:** The smallest marine mammals in North America, known for their dense fur.\n",
      "*   **Key Features:** They spend almost their entire lives in the water, have strong hind flippers, and use tools (like rocks) to crack open shellfish. They are incredibly playful and intelligent.\n",
      "*   **Types:** There are two species: the Northern sea otter and the Southern sea otter.\n",
      "*   **Fun Fact:** Sea otters are vital to kelp forest ecosystems because they eat sea urchins, which can overgraze the kelp.\n",
      "\n",
      "**4. Manatees and Dugongs (Sirenians):**\n",
      "\n",
      "*   **What they are:** Gentle, slow-moving herbivores, often called \"sea cows.\"\n",
      "*   **Key Features:** Large, round bodies, paddle-like tails, and they feed on seagrass and other aquatic plants.\n",
      "*   **Types:** There are three species of manatees (West Indian, Amazonian, and West African) and one species of dugong.\n",
      "*   **Fun Fact:** Manatees are related to elephants!\n",
      "\n",
      "**5. Polar Bears:**\n",
      "\n",
      "*   **What they are:** The largest land predators, but are considered marine mammals because they spend much of their time in the Arctic Ocean.\n",
      "*   **Key Features:** Adapted for cold environments, with thick fur and a layer of blubber. They are excellent swimmers and hunters, primarily feeding on seals.\n",
      "*   **Fun Fact:** Polar bears can swim for miles and are known to hold their breath for up to two minutes.\n",
      "\n",
      "**How to Choose What to Learn About:**\n",
      "\n",
      "*   **Location:** Are you interested in mammals from a specific part of the world? (e.g., the Arctic, the Pacific Ocean, the Caribbean)\n",
      "*   **Behavior:** Are you fascinated by intelligence, social behavior, hunting techniques, or conservation challenges?\n",
      "*   **Appearance:** Do you have a preference for a particular look or size of animal?\n",
      "*   **Conservation:** Are you interested in learning about species that are threatened or endangered and the challenges they face?\n",
      "\n",
      "Let me know what sounds most interesting to you, and I can provide more specific information! Or, you can choose a few and we can explore them together!\n",
      "================================\u001b[1m Human Message \u001b[0m=================================\n",
      "Name: Lance\n",
      "\n",
      "Tell me more about Narwhals!\n",
      "==================================\u001b[1m Ai Message \u001b[0m==================================\n",
      "\n",
      "Alright, let's dive into the fascinating world of Narwhals! These \"unicorns of the sea\" are truly unique creatures. Here's a breakdown of some key things to know:\n",
      "\n",
      "**What are Narwhals?**\n",
      "\n",
      "*   **Type:** They are marine mammals, specifically whales. They belong to the Monodontidae family, which also includes beluga whales.\n",
      "*   **Appearance:**\n",
      "    *   **Size:** They are medium-sized whales, typically reaching 13-18 feet (4-5.5 meters) in length, not including the tusk.\n",
      "    *   **Color:** Their bodies are generally mottled gray, with darker patches on their backs and lighter bellies. As they age, they tend to become whiter.\n",
      "    *   **Shape:** They have a rounded body and a small head.\n",
      "    *   **Tusk:** This is their most distinctive feature. It's actually a greatly elongated canine tooth, usually found in males. The tusk can grow up to 10 feet (3 meters) long! Sometimes, females will have a small tusk, and occasionally, males can have two tusks.\n",
      "    *   **Fins:** They have small pectoral flippers and a tail fluke. They lack a dorsal fin, which is thought to help them swim under ice.\n",
      "\n",
      "**Where do they Live?**\n",
      "\n",
      "*   **Habitat:** Narwhals are found exclusively in the Arctic waters of Canada, Greenland, Russia, and Norway.\n",
      "*   **Environment:** They prefer deep, cold waters, often near pack ice and ice floes. They spend most of their time in the Arctic Ocean.\n",
      "\n",
      "**What do they eat?**\n",
      "\n",
      "*   **Diet:** They are primarily carnivores, feeding on a variety of marine life. Their diet includes:\n",
      "    *   Squid\n",
      "    *   Fish (like Greenland halibut, cod, and Arctic cod)\n",
      "    *   Shrimp and other crustaceans\n",
      "\n",
      "**How do they behave?**\n",
      "\n",
      "*   **Social Animals:** Narwhals are highly social animals, living in groups called pods. Pod sizes can range from a few individuals to hundreds, especially during migrations.\n",
      "*   **Communication:** They communicate through a variety of clicks, whistles, and pulsed calls.\n",
      "*   **Diving:** They are exceptional divers, reaching depths of up to 1,800 meters (5,900 feet) and can hold their breath for up to 25 minutes!\n",
      "*   **Tusk Function:** The function of the tusk has been a subject of much research. While it was once thought to be used for piercing ice or fighting, current research suggests it serves several purposes:\n",
      "    *   **Sensory Organ:** The tusk has millions of nerve endings, making it a sensory organ that can detect changes in water salinity, temperature, and pressure.\n",
      "    *   **Display:** It's likely used in male-male competition and for attracting mates.\n",
      "    *   **Feeding:** Some research suggests the tusk may be used to stun or dislodge prey.\n",
      "\n",
      "**Reproduction:**\n",
      "\n",
      "*   **Mating:** Mating season is typically in the spring.\n",
      "*   **Gestation:** The gestation period is around 14 months.\n",
      "*   **Calves:** They give birth to a single calf, usually in the summer. Calves are born gray and lack a tusk. They are dependent on their mothers for about 20 months.\n",
      "\n",
      "**Conservation Status:**\n",
      "\n",
      "*   **Near Threatened:** Narwhals are listed as \"Near Threatened\" by the IUCN (International Union for Conservation of Nature).\n",
      "*   **Threats:**\n",
      "    *   **Climate Change:** The melting of Arctic sea ice is a major threat, as it affects their habitat and access to food.\n",
      "    *   **Human Activities:** They are vulnerable to hunting by Inuit communities, and they can be impacted by shipping, oil and gas exploration, and noise pollution.\n",
      "    *   **Entanglement:** They can become entangled in fishing gear.\n",
      "\n",
      "**Fun Facts:**\n",
      "\n",
      "*   **The \"Unicorn of the Sea\":** Their tusk has long fascinated people, leading to legends and folklore. In the past, the tusks were sometimes sold as unicorn horns.\n",
      "*   **Longest Tooth:** The narwhal tusk is the longest tooth found in any animal.\n",
      "*   **Unusual Skin:** Their skin is very sensitive and they are prone to skin conditions.\n",
      "*   **They are very sensitive to noise pollution:** Noise from ships and other human activities can disrupt their communication and feeding behaviors.\n",
      "*   **They are often seen in large groups:** During migrations, they can form pods of hundreds of individuals.\n",
      "\n",
      "**In Summary:**\n",
      "\n",
      "Narwhals are remarkable creatures perfectly adapted to the harsh Arctic environment. Their unique tusk, social nature, and deep-diving abilities make them truly special. They are a vital part of the Arctic ecosystem and their conservation is critical.\n",
      "\n",
      "Do you have any more specific questions about Narwhals that you'd like me to answer? I'm happy to provide more details!\n"
     ]
    }
   ],
   "source": [
    "# Invoke, using message filtering\n",
    "output = graph.invoke({'messages': messages})\n",
    "for m in output['messages']:\n",
    "    m.pretty_print()"
   ]
  },
  {
   "cell_type": "markdown",
   "id": "42e1d8d2-e297-4d78-b54c-d12b3c866745",
   "metadata": {},
   "source": [
    "The state has all of the mesages.\n",
    "\n",
    "But, let's look at the LangSmith trace to see that the model invocation only uses the last message:\n",
    "\n",
    "https://smith.langchain.com/public/75aca3ce-ef19-4b92-94be-0178c7a660d9/r"
   ]
  },
  {
   "cell_type": "markdown",
   "id": "fc40d930-3c1f-47fe-8d2a-ce174873353c",
   "metadata": {},
   "source": [
    "## Trim messages\n",
    "\n",
    "Another approach is to [trim messages](https://python.langchain.com/v0.2/docs/how_to/trim_messages/#getting-the-last-max_tokens-tokens), based upon a set number of tokens. \n",
    "\n",
    "This restricts the message history to a specified number of tokens.\n",
    "\n",
    "While filtering only returns a post-hoc subset of the messages between agents, trimming restricts the number of tokens that a chat model can use to respond.\n",
    "\n",
    "See the `trim_messages` below."
   ]
  },
  {
   "cell_type": "code",
   "execution_count": 14,
   "id": "2ff99b81-cf03-4cc2-b44f-44829a73e1fd",
   "metadata": {},
   "outputs": [
    {
     "data": {
      "image/png": "[encoded data removed]",
      "text/plain": [
       "<IPython.core.display.Image object>"
      ]
     },
     "metadata": {},
     "output_type": "display_data"
    }
   ],
   "source": [
    "from langchain_core.messages import trim_messages\n",
    "\n",
    "# Node\n",
    "def chat_model_node(state: MessagesState):\n",
    "    messages = trim_messages(\n",
    "            state[\"messages\"],\n",
    "            max_tokens=100,\n",
    "            strategy=\"last\",\n",
    "            token_counter=ChatGoogleGenerativeAI(model=\"gemini-2.0-flash-lite\", api_key=os.environ.get(\"GEMINI_API_KEY\")),\n",
    "            allow_partial=False,\n",
    "        )\n",
    "    return {\"messages\": [llm.invoke(messages)]}\n",
    "\n",
    "# Build graph\n",
    "builder = StateGraph(MessagesState)\n",
    "builder.add_node(\"chat_model\", chat_model_node)\n",
    "builder.add_edge(START, \"chat_model\")\n",
    "builder.add_edge(\"chat_model\", END)\n",
    "graph = builder.compile()\n",
    "\n",
    "# View\n",
    "display(Image(graph.get_graph().draw_mermaid_png()))"
   ]
  },
  {
   "cell_type": "code",
   "execution_count": 15,
   "id": "24df63ac-da29-4874-b3df-7e390e97cc8a",
   "metadata": {},
   "outputs": [],
   "source": [
    "messages.append(output['messages'][-1])\n",
    "messages.append(HumanMessage(f\"Tell me where Orcas live!\", name=\"Lance\"))"
   ]
  },
  {
   "cell_type": "code",
   "execution_count": 16,
   "id": "6d9d8971-c75c-43ca-a209-eb1d07b2ead0",
   "metadata": {},
   "outputs": [
    {
     "data": {
      "text/plain": [
       "[HumanMessage(content='Tell me where Orcas live!', additional_kwargs={}, response_metadata={}, name='Lance')]"
      ]
     },
     "execution_count": 16,
     "metadata": {},
     "output_type": "execute_result"
    }
   ],
   "source": [
    "# Example of trimming messages\n",
    "trim_messages(\n",
    "            messages,\n",
    "            max_tokens=100,\n",
    "            strategy=\"last\",\n",
    "            token_counter=ChatGoogleGenerativeAI(model=\"gemini-2.0-flash-lite\", api_key=os.environ.get(\"GEMINI_API_KEY\")),\n",
    "            allow_partial=False\n",
    "        )"
   ]
  },
  {
   "cell_type": "code",
   "execution_count": 17,
   "id": "ed70a269-a869-4fa0-a1df-29736a432c51",
   "metadata": {},
   "outputs": [],
   "source": [
    "# Invoke, using message trimming in the chat_model_node \n",
    "messages_out_trim = graph.invoke({'messages': messages})"
   ]
  },
  {
   "cell_type": "code",
   "execution_count": 31,
   "id": "eb49547b",
   "metadata": {},
   "outputs": [
    {
     "name": "stdout",
     "output_type": "stream",
     "text": [
      "{'input_tokens': 7, 'output_tokens': 260, 'total_tokens': 267, 'input_token_details': {'cache_read': 0}}\n",
      "================================\u001b[1m Human Message \u001b[0m=================================\n",
      "Name: Lance\n",
      "\n",
      "Tell me where Orcas live!\n"
     ]
    }
   ],
   "source": [
    "id=0\n",
    "# print(len(messages_out_trim['messages']))\n",
    "for m in messages_out_trim['messages']:\n",
    "    id+=1\n",
    "    if (id==9):\n",
    "        print(m.usage_metadata)\n",
    "\n",
    "id=0\n",
    "for m in messages_out_trim['messages']:\n",
    "    id+=1\n",
    "    if (id==8):\n",
    "        m.pretty_print()"
   ]
  },
  {
   "cell_type": "markdown",
   "id": "38b3db67-380e-46b5-9a6a-20100ba52008",
   "metadata": {},
   "source": [
    "Let's look at the LangSmith trace to see the model invocation:\n",
    "\n",
    "https://smith.langchain.com/public/b153f7e9-f1a5-4d60-8074-f0d7ab5b42ef/r"
   ]
  }
 ],
 "metadata": {
  "kernelspec": {
   "display_name": "lc-adademy-env",
   "language": "python",
   "name": "python3"
  },
  "language_info": {
   "codemirror_mode": {
    "name": "ipython",
    "version": 3
   },
   "file_extension": ".py",
   "mimetype": "text/x-python",
   "name": "python",
   "nbconvert_exporter": "python",
   "pygments_lexer": "ipython3",
   "version": "3.11.12"
  }
 },
 "nbformat": 4,
 "nbformat_minor": 5
}
